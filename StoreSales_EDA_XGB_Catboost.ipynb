{
  "nbformat": 4,
  "nbformat_minor": 0,
  "metadata": {
    "colab": {
      "provenance": [],
      "authorship_tag": "ABX9TyNwU+fMeXvqz324p7TZSjnM"
    },
    "kernelspec": {
      "name": "python3",
      "display_name": "Python 3"
    },
    "language_info": {
      "name": "python"
    }
  },
  "cells": [
    {
      "cell_type": "markdown",
      "source": [
        "# Corporación Favorita Grocery Sales Forecasting"
      ],
      "metadata": {
        "id": "xPl0q6mUbQcN"
      }
    },
    {
      "cell_type": "markdown",
      "source": [
        "Kaggle соревнование в котором необходимо спрогнозировать продажи тысяч семейств товаров, продаваемых в магазинах Favorita, расположенных в Эквадоре. Данные обучения включают даты, информацию о магазине и продукте, информацию о том, продвигался ли этот товар, а также номера продаж. Так же есть дополнительные файлы с катировками нефти и праздниками.\n",
        "\n",
        "[ссылка на соревнование](https://www.kaggle.com/competitions/store-sales-time-series-forecasting/overview\n",
        ")"
      ],
      "metadata": {
        "id": "WurRynykcHPO"
      }
    },
    {
      "cell_type": "code",
      "source": [
        "import numpy as np\n",
        "import pandas as pd\n",
        "import matplotlib.pyplot as plt\n",
        "\n",
        "import seaborn as sns\n",
        "\n",
        "from sklearn.metrics import mean_squared_error\n",
        "color_pal = sns.color_palette()\n",
        "plt.style.use('fivethirtyeight')"
      ],
      "metadata": {
        "id": "B5MtpJarhgcg"
      },
      "execution_count": 5,
      "outputs": []
    },
    {
      "cell_type": "code",
      "source": [
        "from google.colab import drive\n",
        "drive.mount('/content/drive')"
      ],
      "metadata": {
        "id": "9Ej7HwtciiKn"
      },
      "execution_count": null,
      "outputs": []
    },
    {
      "cell_type": "code",
      "execution_count": 9,
      "metadata": {
        "id": "iY_hsevqymfb",
        "collapsed": true
      },
      "outputs": [],
      "source": [
        "train_df = pd.read_csv('drive/MyDrive/data/train.csv',index_col='id')\n",
        "test_df = pd.read_csv('drive/MyDrive/data/test.csv',index_col='id')"
      ]
    },
    {
      "cell_type": "code",
      "source": [],
      "metadata": {
        "id": "Y6tIJ_7PgBRs"
      },
      "execution_count": 9,
      "outputs": []
    }
  ]
}